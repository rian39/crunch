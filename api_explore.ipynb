{
 "metadata": {
  "name": ""
 },
 "nbformat": 3,
 "nbformat_minor": 0,
 "worksheets": [
  {
   "cells": [
    {
     "cell_type": "markdown",
     "metadata": {},
     "source": [
      "# Crunchbase API as a way to track flows between industry and academic work on data\n",
      "\n",
      "See [http://developer.crunchbase.com/docs]\n",
      "\n",
      "## To do\n",
      "\n",
      "- load the json objects for companies\n",
      "    - extract all the people\n",
      "    - extract all the tag-list\n",
      "- the people - company matrix\n",
      "- the tag - company matrix\n"
     ]
    },
    {
     "cell_type": "code",
     "collapsed": false,
     "input": [
      "import requests\n",
      "import pandas as pd\n",
      "import seaborn\n",
      "import matplotlib.pyplot as plt\n",
      "import json\n",
      "import StringIO\n",
      "import time\n",
      "import graph_tool.all as gt"
     ],
     "language": "python",
     "metadata": {},
     "outputs": [],
     "prompt_number": 145
    },
    {
     "cell_type": "markdown",
     "metadata": {},
     "source": [
      "## Queries to get info on companies\n",
      "\n",
      "Could just as well do 'people'; "
     ]
    },
    {
     "cell_type": "code",
     "collapsed": false,
     "input": [
      "query = 'machine-learning&entity=company'"
     ],
     "language": "python",
     "metadata": {},
     "outputs": [],
     "prompt_number": 97
    },
    {
     "cell_type": "code",
     "collapsed": false,
     "input": [
      "def get_details(query):\n",
      "    url = \"http://api.crunchbase.com/v/1/search.js?query=\" + query + \"&api_key=a2gyuj2rmdraphk8k43rbg4g\"\n",
      "    req = requests.get(url)\n",
      "    res = req.json()\n",
      "    df = pd.DataFrame.from_dict(res['results'])\n",
      "    res_count = res['total']\n",
      "    print('There are %d items' % res_count)\n",
      "    for page in range(2, (res_count+10//2)//10 + 1):\n",
      "        try:\n",
      "            url = \"http://api.crunchbase.com/v/1/search.js?query=\" + query + \"&api_key=a2gyuj2rmdraphk8k43rbg4g&page=\"+str(page)\n",
      "            req = requests.get(url)\n",
      "            res = req.json()\n",
      "            df = df.append(pd.DataFrame.from_dict(res['results']))\n",
      "        except Exception, e:\n",
      "            print(e)\n",
      "        time.sleep(0.1)\n",
      "    print('retrieved %d items' % df.shape[0])    \n",
      "    return df"
     ],
     "language": "python",
     "metadata": {},
     "outputs": [],
     "prompt_number": 103
    },
    {
     "cell_type": "code",
     "collapsed": true,
     "input": [
      "ml_company_df = get_details(query)"
     ],
     "language": "python",
     "metadata": {},
     "outputs": [
      {
       "output_type": "stream",
       "stream": "stdout",
       "text": [
        "There are 150 items\n",
        "Invalid control character at: line 192 column 220 (char 10105)"
       ]
      },
      {
       "output_type": "stream",
       "stream": "stdout",
       "text": [
        "\n",
        "retrieved 140 companies"
       ]
      },
      {
       "output_type": "stream",
       "stream": "stdout",
       "text": [
        "\n"
       ]
      }
     ],
     "prompt_number": 99
    },
    {
     "cell_type": "code",
     "collapsed": false,
     "input": [
      "bd_company_df = get_details('big-data&entity=company')"
     ],
     "language": "python",
     "metadata": {},
     "outputs": [
      {
       "output_type": "stream",
       "stream": "stdout",
       "text": [
        "There are 675 items\n",
        "Invalid control character at: line 154 column 213 (char 8371)"
       ]
      },
      {
       "output_type": "stream",
       "stream": "stdout",
       "text": [
        "\n",
        "retrieved 665 companies"
       ]
      },
      {
       "output_type": "stream",
       "stream": "stdout",
       "text": [
        "\n"
       ]
      }
     ],
     "prompt_number": 100
    },
    {
     "cell_type": "code",
     "collapsed": false,
     "input": [
      "dm_company_df = get_details('data-mining&entity=company')"
     ],
     "language": "python",
     "metadata": {},
     "outputs": [
      {
       "output_type": "stream",
       "stream": "stdout",
       "text": [
        "There are 128 items\n",
        "Invalid control character at: line 91 column 923 (char 7115)"
       ]
      },
      {
       "output_type": "stream",
       "stream": "stdout",
       "text": [
        "\n",
        "retrieved 118 companies"
       ]
      },
      {
       "output_type": "stream",
       "stream": "stdout",
       "text": [
        "\n"
       ]
      }
     ],
     "prompt_number": 76
    },
    {
     "cell_type": "code",
     "collapsed": false,
     "input": [
      "pa_company_df = get_details('predictive-analytics&entity=company')"
     ],
     "language": "python",
     "metadata": {},
     "outputs": [
      {
       "output_type": "stream",
       "stream": "stdout",
       "text": [
        "There are 96 items\n",
        "retrieved 96 companies"
       ]
      },
      {
       "output_type": "stream",
       "stream": "stdout",
       "text": [
        "\n"
       ]
      }
     ],
     "prompt_number": 77
    },
    {
     "cell_type": "code",
     "collapsed": false,
     "input": [
      "pr_company_df = get_details('pattern-recognition&entity=company')"
     ],
     "language": "python",
     "metadata": {},
     "outputs": [
      {
       "output_type": "stream",
       "stream": "stdout",
       "text": [
        "There are 8 items\n",
        "retrieved 8 companies\n"
       ]
      }
     ],
     "prompt_number": 78
    },
    {
     "cell_type": "code",
     "collapsed": false,
     "input": [
      "tm_company_df = get_details('text-analytics&entity=company')"
     ],
     "language": "python",
     "metadata": {},
     "outputs": [
      {
       "output_type": "stream",
       "stream": "stdout",
       "text": [
        "There are 24 items\n",
        "retrieved 20 companies"
       ]
      },
      {
       "output_type": "stream",
       "stream": "stdout",
       "text": [
        "\n"
       ]
      }
     ],
     "prompt_number": 91
    },
    {
     "cell_type": "markdown",
     "metadata": {},
     "source": [
      "These queries are just a sample, but what is the overall total here?"
     ]
    },
    {
     "cell_type": "code",
     "collapsed": false,
     "input": [
      "company_df = ml_company_df.append([dm_company_df, pa_company_df, bd_company_df, pr_company_df, tm_company_df])\n",
      "company_df.drop_duplicates(cols = 'permalink', inplace=True)\n",
      "print(company_df.columns)\n",
      "company_df.shape"
     ],
     "language": "python",
     "metadata": {},
     "outputs": [
      {
       "output_type": "stream",
       "stream": "stdout",
       "text": [
        "Index([u'category_code', u'crunchbase_url', u'description', u'homepage_url', u'image', u'name', u'namespace', u'offices', u'overview', u'permalink'], dtype=object)\n"
       ]
      },
      {
       "metadata": {},
       "output_type": "pyout",
       "prompt_number": 92,
       "text": [
        "(926, 10)"
       ]
      }
     ],
     "prompt_number": 92
    },
    {
     "cell_type": "code",
     "collapsed": false,
     "input": [
      "\n",
      "#company_df.to_csv('company_list.csv', encoding='utf-8')\n",
      "company_df.category_code.value_counts().plot(kind='barh')"
     ],
     "language": "python",
     "metadata": {},
     "outputs": [
      {
       "metadata": {},
       "output_type": "pyout",
       "prompt_number": 147,
       "text": [
        "<matplotlib.axes.AxesSubplot at 0x78d6210>"
       ]
      },
      {
       "metadata": {},
       "output_type": "display_data",
       "png": "[encoded data removed]",
       "text": [
        "<matplotlib.figure.Figure at 0x78d8150>"
       ]
      }
     ],
     "prompt_number": 147
    },
    {
     "cell_type": "markdown",
     "metadata": {},
     "source": [
      "## Retrieve info about the companies"
     ]
    },
    {
     "cell_type": "code",
     "collapsed": true,
     "input": [
      "company_names = company_df.name.str.replace(' ', '+')"
     ],
     "language": "python",
     "metadata": {},
     "outputs": [],
     "prompt_number": 135
    },
    {
     "cell_type": "code",
     "collapsed": true,
     "input": [
      "entity = 'company'\n",
      "for company in company_names:\n",
      "    url = \"http://api.crunchbase.com/v/1/\"+entity+\"/\" + company + \".js?api_key=a2gyuj2rmdraphk8k43rbg4g\"\n",
      "    try:\n",
      "        res = requests.get(url)\n",
      "        data = res.json()\n",
      "        json.dump(data, fp=open('data/'+company+'.js', 'w'))\n",
      "    except Exception, e:\n",
      "        print e"
     ],
     "language": "python",
     "metadata": {},
     "outputs": [
      {
       "output_type": "stream",
       "stream": "stdout",
       "text": [
        "No JSON object could be decoded\n",
        "No JSON object could be decoded"
       ]
      },
      {
       "output_type": "stream",
       "stream": "stdout",
       "text": [
        "\n",
        "No JSON object could be decoded"
       ]
      },
      {
       "output_type": "stream",
       "stream": "stdout",
       "text": [
        "\n",
        "No JSON object could be decoded"
       ]
      },
      {
       "output_type": "stream",
       "stream": "stdout",
       "text": [
        "\n",
        "No JSON object could be decoded"
       ]
      },
      {
       "output_type": "stream",
       "stream": "stdout",
       "text": [
        "\n",
        "No JSON object could be decoded"
       ]
      },
      {
       "output_type": "stream",
       "stream": "stdout",
       "text": [
        "\n",
        "No JSON object could be decoded"
       ]
      },
      {
       "output_type": "stream",
       "stream": "stdout",
       "text": [
        "\n",
        "No JSON object could be decoded"
       ]
      },
      {
       "output_type": "stream",
       "stream": "stdout",
       "text": [
        "\n",
        "No JSON object could be decoded"
       ]
      },
      {
       "output_type": "stream",
       "stream": "stdout",
       "text": [
        "\n",
        "No JSON object could be decoded"
       ]
      },
      {
       "output_type": "stream",
       "stream": "stdout",
       "text": [
        "\n",
        "No JSON object could be decoded"
       ]
      },
      {
       "output_type": "stream",
       "stream": "stdout",
       "text": [
        "\n",
        "No JSON object could be decoded"
       ]
      },
      {
       "output_type": "stream",
       "stream": "stdout",
       "text": [
        "\n",
        "No JSON object could be decoded"
       ]
      },
      {
       "output_type": "stream",
       "stream": "stdout",
       "text": [
        "\n",
        "No JSON object could be decoded"
       ]
      },
      {
       "output_type": "stream",
       "stream": "stdout",
       "text": [
        "\n",
        "No JSON object could be decoded"
       ]
      },
      {
       "output_type": "stream",
       "stream": "stdout",
       "text": [
        "\n",
        "No JSON object could be decoded"
       ]
      },
      {
       "output_type": "stream",
       "stream": "stdout",
       "text": [
        "\n",
        "No JSON object could be decoded"
       ]
      },
      {
       "output_type": "stream",
       "stream": "stdout",
       "text": [
        "\n",
        "No JSON object could be decoded"
       ]
      },
      {
       "output_type": "stream",
       "stream": "stdout",
       "text": [
        "\n",
        "No JSON object could be decoded"
       ]
      },
      {
       "output_type": "stream",
       "stream": "stdout",
       "text": [
        "\n",
        "No JSON object could be decoded"
       ]
      },
      {
       "output_type": "stream",
       "stream": "stdout",
       "text": [
        "\n",
        "No JSON object could be decoded"
       ]
      },
      {
       "output_type": "stream",
       "stream": "stdout",
       "text": [
        "\n",
        "No JSON object could be decoded"
       ]
      },
      {
       "output_type": "stream",
       "stream": "stdout",
       "text": [
        "\n",
        "No JSON object could be decoded"
       ]
      },
      {
       "output_type": "stream",
       "stream": "stdout",
       "text": [
        "\n",
        "No JSON object could be decoded"
       ]
      },
      {
       "output_type": "stream",
       "stream": "stdout",
       "text": [
        "\n",
        "No JSON object could be decoded"
       ]
      },
      {
       "output_type": "stream",
       "stream": "stdout",
       "text": [
        "\n",
        "No JSON object could be decoded"
       ]
      },
      {
       "output_type": "stream",
       "stream": "stdout",
       "text": [
        "\n",
        "No JSON object could be decoded"
       ]
      },
      {
       "output_type": "stream",
       "stream": "stdout",
       "text": [
        "\n",
        "No JSON object could be decoded"
       ]
      },
      {
       "output_type": "stream",
       "stream": "stdout",
       "text": [
        "\n",
        "No JSON object could be decoded"
       ]
      },
      {
       "output_type": "stream",
       "stream": "stdout",
       "text": [
        "\n",
        "No JSON object could be decoded"
       ]
      },
      {
       "output_type": "stream",
       "stream": "stdout",
       "text": [
        "\n",
        "No JSON object could be decoded"
       ]
      },
      {
       "output_type": "stream",
       "stream": "stdout",
       "text": [
        "\n",
        "No JSON object could be decoded"
       ]
      },
      {
       "output_type": "stream",
       "stream": "stdout",
       "text": [
        "\n",
        "No JSON object could be decoded"
       ]
      },
      {
       "output_type": "stream",
       "stream": "stdout",
       "text": [
        "\n",
        "No JSON object could be decoded"
       ]
      },
      {
       "output_type": "stream",
       "stream": "stdout",
       "text": [
        "\n",
        "No JSON object could be decoded"
       ]
      },
      {
       "output_type": "stream",
       "stream": "stdout",
       "text": [
        "\n",
        "No JSON object could be decoded"
       ]
      },
      {
       "output_type": "stream",
       "stream": "stdout",
       "text": [
        "\n",
        "No JSON object could be decoded"
       ]
      },
      {
       "output_type": "stream",
       "stream": "stdout",
       "text": [
        "\n",
        "No JSON object could be decoded"
       ]
      },
      {
       "output_type": "stream",
       "stream": "stdout",
       "text": [
        "\n",
        "No JSON object could be decoded"
       ]
      },
      {
       "output_type": "stream",
       "stream": "stdout",
       "text": [
        "\n",
        "No JSON object could be decoded"
       ]
      },
      {
       "output_type": "stream",
       "stream": "stdout",
       "text": [
        "\n",
        "No JSON object could be decoded"
       ]
      },
      {
       "output_type": "stream",
       "stream": "stdout",
       "text": [
        "\n",
        "No JSON object could be decoded"
       ]
      },
      {
       "output_type": "stream",
       "stream": "stdout",
       "text": [
        "\n",
        "No JSON object could be decoded"
       ]
      },
      {
       "output_type": "stream",
       "stream": "stdout",
       "text": [
        "\n",
        "No JSON object could be decoded"
       ]
      },
      {
       "output_type": "stream",
       "stream": "stdout",
       "text": [
        "\n"
       ]
      }
     ],
     "prompt_number": 138
    },
    {
     "cell_type": "code",
     "collapsed": false,
     "input": [
      "\n",
      "data.keys()"
     ],
     "language": "python",
     "metadata": {},
     "outputs": [
      {
       "metadata": {},
       "output_type": "pyout",
       "prompt_number": 116,
       "text": [
        "[u'category_code',\n",
        " u'crunchbase_url',\n",
        " u'video_embeds',\n",
        " u'deadpooled_month',\n",
        " u'overview',\n",
        " u'image',\n",
        " u'updated_at',\n",
        " u'funding_rounds',\n",
        " u'total_money_raised',\n",
        " u'deadpooled_day',\n",
        " u'email_address',\n",
        " u'alias_list',\n",
        " u'relationships',\n",
        " u'partners',\n",
        " u'screenshots',\n",
        " u'founded_day',\n",
        " u'competitions',\n",
        " u'blog_feed_url',\n",
        " u'providerships',\n",
        " u'offices',\n",
        " u'phone_number',\n",
        " u'description',\n",
        " u'deadpooled_year',\n",
        " u'ipo',\n",
        " u'twitter_username',\n",
        " u'milestones',\n",
        " u'external_links',\n",
        " u'number_of_employees',\n",
        " u'founded_year',\n",
        " u'founded_month',\n",
        " u'acquisitions',\n",
        " u'permalink',\n",
        " u'deadpooled_url',\n",
        " u'name',\n",
        " u'created_at',\n",
        " u'homepage_url',\n",
        " u'products',\n",
        " u'blog_url',\n",
        " u'tag_list',\n",
        " u'investments',\n",
        " u'acquisition']"
       ]
      }
     ],
     "prompt_number": 116
    },
    {
     "cell_type": "code",
     "collapsed": false,
     "input": [],
     "language": "python",
     "metadata": {},
     "outputs": [],
     "prompt_number": 132
    },
    {
     "cell_type": "markdown",
     "metadata": {},
     "source": [
      "The tag list offers a way to look at the span of activity and how it is related?"
     ]
    },
    {
     "cell_type": "code",
     "collapsed": false,
     "input": [
      "data['tag_list']"
     ],
     "language": "python",
     "metadata": {},
     "outputs": [
      {
       "metadata": {},
       "output_type": "pyout",
       "prompt_number": 117,
       "text": [
        "u'big-data, analytics, labor-optimization, game-layers, labor-graph'"
       ]
      }
     ],
     "prompt_number": 117
    },
    {
     "cell_type": "markdown",
     "metadata": {},
     "source": [
      "Relationships are the people -- could build networks here. Could also look at founding data, number of employees, amount of funding, etc"
     ]
    },
    {
     "cell_type": "code",
     "collapsed": false,
     "input": [
      "tags = data['tag_list']\n",
      "people = data['relationships']\n",
      "founded_year = data['founded_year']\n",
      "founded_month = data['founded_month']"
     ],
     "language": "python",
     "metadata": {},
     "outputs": [],
     "prompt_number": 127
    },
    {
     "cell_type": "code",
     "collapsed": false,
     "input": [
      "founded_year"
     ],
     "language": "python",
     "metadata": {},
     "outputs": [
      {
       "metadata": {},
       "output_type": "pyout",
       "prompt_number": 126,
       "text": [
        "2009"
       ]
      }
     ],
     "prompt_number": 126
    },
    {
     "cell_type": "code",
     "collapsed": false,
     "input": [
      "data['relationships']"
     ],
     "language": "python",
     "metadata": {},
     "outputs": [
      {
       "metadata": {},
       "output_type": "pyout",
       "prompt_number": 118,
       "text": [
        "[{u'is_past': False,\n",
        "  u'person': {u'first_name': u'Philip',\n",
        "   u'last_name': u'H. Beauregard',\n",
        "   u'permalink': u'philip-h-beauregard'},\n",
        "  u'title': u'Chief Executive Officer'},\n",
        " {u'is_past': False,\n",
        "  u'person': {u'first_name': u'Melissa',\n",
        "   u'last_name': u'Leffler',\n",
        "   u'permalink': u'melissa-leffler'},\n",
        "  u'title': u'VP Engineering'},\n",
        " {u'is_past': False,\n",
        "  u'person': {u'first_name': u'Eric',\n",
        "   u'last_name': u'Poley',\n",
        "   u'permalink': u'eric-poley'},\n",
        "  u'title': u'VP Sales'},\n",
        " {u'is_past': False,\n",
        "  u'person': {u'first_name': u'Matthew',\n",
        "   u'last_name': u'R. Grace',\n",
        "   u'permalink': u'matthew-r-grace'},\n",
        "  u'title': u'Chief Technology Officer'},\n",
        " {u'is_past': False,\n",
        "  u'person': {u'first_name': u'Jeff',\n",
        "   u'last_name': u'Fagnan',\n",
        "   u'permalink': u'jeff-fagnan'},\n",
        "  u'title': u'Board Member'},\n",
        " {u'is_past': False,\n",
        "  u'person': {u'first_name': u'Steve',\n",
        "   u'last_name': u'Tremblay',\n",
        "   u'permalink': u'steve-tremblay'},\n",
        "  u'title': u'VP of Finance'},\n",
        " {u'is_past': False,\n",
        "  u'person': {u'first_name': u'Serguei',\n",
        "   u'last_name': u'Netessine',\n",
        "   u'permalink': u'serguei-netessine'},\n",
        "  u'title': u'Advisor'},\n",
        " {u'is_past': False,\n",
        "  u'person': {u'first_name': u'Lee',\n",
        "   u'last_name': u'Hower',\n",
        "   u'permalink': u'lee-hower'},\n",
        "  u'title': u'Investor'},\n",
        " {u'is_past': False,\n",
        "  u'person': {u'first_name': u'Matt',\n",
        "   u'last_name': u'Trail',\n",
        "   u'permalink': u'matt-trail'},\n",
        "  u'title': u'VP Ops'},\n",
        " {u'is_past': False,\n",
        "  u'person': {u'first_name': u'Dustin',\n",
        "   u'last_name': u'Dolginow',\n",
        "   u'permalink': u'dustin-dolginow'},\n",
        "  u'title': u''},\n",
        " {u'is_past': True,\n",
        "  u'person': {u'first_name': u'Rick',\n",
        "   u'last_name': u'Darer',\n",
        "   u'permalink': u'rick-darer'},\n",
        "  u'title': u'CFO/Consigliere'},\n",
        " {u'is_past': True,\n",
        "  u'person': {u'first_name': u'Serguei',\n",
        "   u'last_name': u'Netessine',\n",
        "   u'permalink': u'serguei-netessine'},\n",
        "  u'title': u'Investor'}]"
       ]
      }
     ],
     "prompt_number": 118
    },
    {
     "cell_type": "code",
     "collapsed": false,
     "input": [
      "query = 'machine-learning&entity=people'\n",
      "ml_people_df = get_details(query)"
     ],
     "language": "python",
     "metadata": {},
     "outputs": [
      {
       "output_type": "stream",
       "stream": "stdout",
       "text": [
        "There are 196 items\n",
        "No JSON object could be decoded"
       ]
      },
      {
       "output_type": "stream",
       "stream": "stdout",
       "text": [
        "\n",
        "Invalid control character at: line 132 column 220 (char 6919)"
       ]
      },
      {
       "output_type": "stream",
       "stream": "stdout",
       "text": [
        "\n",
        "retrieved 176 items"
       ]
      },
      {
       "output_type": "stream",
       "stream": "stdout",
       "text": [
        "\n"
       ]
      }
     ],
     "prompt_number": 139
    },
    {
     "cell_type": "code",
     "collapsed": false,
     "input": [
      "ml_people_df.head()"
     ],
     "language": "python",
     "metadata": {},
     "outputs": [
      {
       "output_type": "stream",
       "stream": "stderr",
       "text": [
        "/usr/local/lib/python2.7/dist-packages/pandas-0.12.0-py2.7-linux-x86_64.egg/pandas/core/config.py:570: DeprecationWarning: height has been deprecated.\n",
        "\n",
        "  warnings.warn(d.msg, DeprecationWarning)\n",
        "/usr/local/lib/python2.7/dist-packages/pandas-0.12.0-py2.7-linux-x86_64.egg/pandas/core/config.py:570: DeprecationWarning: height has been deprecated.\n",
        "\n",
        "  warnings.warn(d.msg, DeprecationWarning)\n",
        "/usr/local/lib/python2.7/dist-packages/pandas-0.12.0-py2.7-linux-x86_64.egg/pandas/core/config.py:570: DeprecationWarning: height has been deprecated.\n",
        "\n",
        "  warnings.warn(d.msg, DeprecationWarning)\n"
       ]
      },
      {
       "html": [
        "<div style=\"max-height:1000px;max-width:1500px;overflow:auto;\">\n",
        "<table border=\"1\" class=\"dataframe\">\n",
        "  <thead>\n",
        "    <tr style=\"text-align: right;\">\n",
        "      <th></th>\n",
        "      <th>category_code</th>\n",
        "      <th>crunchbase_url</th>\n",
        "      <th>description</th>\n",
        "      <th>first_name</th>\n",
        "      <th>homepage_url</th>\n",
        "      <th>image</th>\n",
        "      <th>last_name</th>\n",
        "      <th>name</th>\n",
        "      <th>namespace</th>\n",
        "      <th>offices</th>\n",
        "      <th>overview</th>\n",
        "      <th>permalink</th>\n",
        "    </tr>\n",
        "  </thead>\n",
        "  <tbody>\n",
        "    <tr>\n",
        "      <th>0</th>\n",
        "      <td> analytics</td>\n",
        "      <td> http://www.crunchbase.com/company/fina-technol...</td>\n",
        "      <td>            Fina Tackles Big Data</td>\n",
        "      <td> NaN</td>\n",
        "      <td> http://www.finatechnologies.com</td>\n",
        "      <td> {u'available_sizes': [[[150, 95], u'assets/ima...</td>\n",
        "      <td> NaN</td>\n",
        "      <td> Fina Technologies</td>\n",
        "      <td> company</td>\n",
        "      <td> [{u'city': u'Cambridge', u'description': u'HQ'...</td>\n",
        "      <td> Fina Technologies applies highly parallel supe...</td>\n",
        "      <td> fina-technologies</td>\n",
        "    </tr>\n",
        "    <tr>\n",
        "      <th>1</th>\n",
        "      <td>  software</td>\n",
        "      <td> http://www.crunchbase.com/company/scarab-research</td>\n",
        "      <td> Recommendation &amp; Personalization</td>\n",
        "      <td> NaN</td>\n",
        "      <td>   http://www.scarabresearch.com</td>\n",
        "      <td> {u'available_sizes': [[[150, 33], u'assets/ima...</td>\n",
        "      <td> NaN</td>\n",
        "      <td>   Scarab Research</td>\n",
        "      <td> company</td>\n",
        "      <td>                                                []</td>\n",
        "      <td> Scarab Research provides highly personalized r...</td>\n",
        "      <td>   scarab-research</td>\n",
        "    </tr>\n",
        "    <tr>\n",
        "      <th>2</th>\n",
        "      <td>    mobile</td>\n",
        "      <td>  http://www.crunchbase.com/company/incoming-media</td>\n",
        "      <td>              Fixing mobile video</td>\n",
        "      <td> NaN</td>\n",
        "      <td>   http://www.incoming-media.com</td>\n",
        "      <td> {u'available_sizes': [[[150, 84], u'assets/ima...</td>\n",
        "      <td> NaN</td>\n",
        "      <td>    Incoming Media</td>\n",
        "      <td> company</td>\n",
        "      <td> [{u'city': u'Santa Clara', u'description': u''...</td>\n",
        "      <td> Incoming Media is fixing mobile video.\\r\\n\\r\\n...</td>\n",
        "      <td>    incoming-media</td>\n",
        "    </tr>\n",
        "    <tr>\n",
        "      <th>3</th>\n",
        "      <td>       web</td>\n",
        "      <td>       http://www.crunchbase.com/company/stylepath</td>\n",
        "      <td>                                 </td>\n",
        "      <td> NaN</td>\n",
        "      <td>           http://stylepath.com/</td>\n",
        "      <td> {u'available_sizes': [[[150, 73], u'assets/ima...</td>\n",
        "      <td> NaN</td>\n",
        "      <td>         StylePath</td>\n",
        "      <td> company</td>\n",
        "      <td> [{u'city': u'Lincoln', u'description': None, u...</td>\n",
        "      <td> StylePath is a shopping recommendation engine ...</td>\n",
        "      <td>         stylepath</td>\n",
        "    </tr>\n",
        "    <tr>\n",
        "      <th>4</th>\n",
        "      <td>    search</td>\n",
        "      <td>          http://www.crunchbase.com/company/yandex</td>\n",
        "      <td>            Russian Search Engine</td>\n",
        "      <td> NaN</td>\n",
        "      <td>           http://www.yandex.ru/</td>\n",
        "      <td> {u'available_sizes': [[[150, 75], u'assets/ima...</td>\n",
        "      <td> NaN</td>\n",
        "      <td>            Yandex</td>\n",
        "      <td> company</td>\n",
        "      <td> [{u'city': u'Moscow', u'description': u'World ...</td>\n",
        "      <td> Yandex is an internet technologies company tha...</td>\n",
        "      <td>            yandex</td>\n",
        "    </tr>\n",
        "  </tbody>\n",
        "</table>\n",
        "</div>"
       ],
       "metadata": {},
       "output_type": "pyout",
       "prompt_number": 141,
       "text": [
        "  category_code                                     crunchbase_url  \\\n",
        "0     analytics  http://www.crunchbase.com/company/fina-technol...   \n",
        "1      software  http://www.crunchbase.com/company/scarab-research   \n",
        "2        mobile   http://www.crunchbase.com/company/incoming-media   \n",
        "3           web        http://www.crunchbase.com/company/stylepath   \n",
        "4        search           http://www.crunchbase.com/company/yandex   \n",
        "\n",
        "                        description first_name  \\\n",
        "0             Fina Tackles Big Data        NaN   \n",
        "1  Recommendation & Personalization        NaN   \n",
        "2               Fixing mobile video        NaN   \n",
        "3                                          NaN   \n",
        "4             Russian Search Engine        NaN   \n",
        "\n",
        "                      homepage_url  \\\n",
        "0  http://www.finatechnologies.com   \n",
        "1    http://www.scarabresearch.com   \n",
        "2    http://www.incoming-media.com   \n",
        "3            http://stylepath.com/   \n",
        "4            http://www.yandex.ru/   \n",
        "\n",
        "                                               image last_name  \\\n",
        "0  {u'available_sizes': [[[150, 95], u'assets/ima...       NaN   \n",
        "1  {u'available_sizes': [[[150, 33], u'assets/ima...       NaN   \n",
        "2  {u'available_sizes': [[[150, 84], u'assets/ima...       NaN   \n",
        "3  {u'available_sizes': [[[150, 73], u'assets/ima...       NaN   \n",
        "4  {u'available_sizes': [[[150, 75], u'assets/ima...       NaN   \n",
        "\n",
        "                name namespace  \\\n",
        "0  Fina Technologies   company   \n",
        "1    Scarab Research   company   \n",
        "2     Incoming Media   company   \n",
        "3          StylePath   company   \n",
        "4             Yandex   company   \n",
        "\n",
        "                                             offices  \\\n",
        "0  [{u'city': u'Cambridge', u'description': u'HQ'...   \n",
        "1                                                 []   \n",
        "2  [{u'city': u'Santa Clara', u'description': u''...   \n",
        "3  [{u'city': u'Lincoln', u'description': None, u...   \n",
        "4  [{u'city': u'Moscow', u'description': u'World ...   \n",
        "\n",
        "                                            overview          permalink  \n",
        "0  Fina Technologies applies highly parallel supe...  fina-technologies  \n",
        "1  Scarab Research provides highly personalized r...    scarab-research  \n",
        "2  Incoming Media is fixing mobile video.\\r\\n\\r\\n...     incoming-media  \n",
        "3  StylePath is a shopping recommendation engine ...          stylepath  \n",
        "4  Yandex is an internet technologies company tha...             yandex  "
       ]
      }
     ],
     "prompt_number": 141
    }
   ],
   "metadata": {}
  }
 ]
}